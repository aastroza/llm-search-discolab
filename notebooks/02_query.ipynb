{
 "cells": [
  {
   "cell_type": "code",
   "execution_count": 1,
   "metadata": {},
   "outputs": [],
   "source": [
    "import sys; sys.path.append(\"..\")\n",
    "import warnings; warnings.filterwarnings(\"ignore\")\n",
    "from dotenv import load_dotenv; load_dotenv()\n",
    "%load_ext autoreload\n",
    "%autoreload 2"
   ]
  },
  {
   "cell_type": "code",
   "execution_count": 2,
   "metadata": {},
   "outputs": [],
   "source": [
    "import json\n",
    "import yaml\n",
    "import re"
   ]
  },
  {
   "cell_type": "code",
   "execution_count": 3,
   "metadata": {},
   "outputs": [],
   "source": [
    "from rag.embed import EmbedChunks\n",
    "from rag.generate import get_sources_and_context, QueryAgent, ComparisonAgent\n",
    "from rag.prompts import DOCUMENT_QA_SYSTEM_PROMPT, DOCUMENT_QA_USER_PROMPT_TEMPLATE, FINAL_RESPONSE_SYSTEM_PROMPT_TEMPLATE\n",
    "from rag.config import MAX_CONTEXT_LENGTHS"
   ]
  },
  {
   "cell_type": "code",
   "execution_count": 4,
   "metadata": {},
   "outputs": [],
   "source": [
    "with open('../config.YAML') as f:\n",
    "    config = yaml.load(f, Loader=yaml.FullLoader)"
   ]
  },
  {
   "cell_type": "code",
   "execution_count": 5,
   "metadata": {},
   "outputs": [],
   "source": [
    "with open('../data/Constituciones.json') as f:\n",
    "    constituciones = json.load(f)"
   ]
  },
  {
   "cell_type": "code",
   "execution_count": 6,
   "metadata": {},
   "outputs": [],
   "source": [
    "embedder = EmbedChunks(config[\"embedding_model\"])"
   ]
  },
  {
   "cell_type": "code",
   "execution_count": 7,
   "metadata": {},
   "outputs": [
    {
     "data": {
      "text/plain": [
       "([32, 31, 33],\n",
       " ['Capítulo III: DE LOS DERECHOS Y DEBERES CONSTITUCIONALES, Artículo 19',\n",
       "  'Capítulo III: DE LOS DERECHOS Y DEBERES CONSTITUCIONALES, Artículo 19',\n",
       "  'Capítulo III: DE LOS DERECHOS Y DEBERES CONSTITUCIONALES, Artículo 19'],\n",
       " 'Source 1:\\néste y sus niveles superiores. El segundo nivel de transición es obligatorio, siendo requisito para el ingreso a la educación básica.\\nLa educación básica y la educación media son obligatorias, debiendo el Estado financiar un sistema gratuito con tal objeto, destinado a asegurar el acceso a ellas de toda la población. En el caso de la educación media este sistema, en conformidad a la ley, se extenderá hasta cumplir los 21 años de edad.\\nCorresponderá al Estado, asimismo, fomentar el desarrollo de la educación en todos sus niveles; estimular la investigación científica y tecnológica, la creación artística y la protección e incremento del patrimonio cultural de la Nación.\\nEs deber de la comunidad contribuir al desarrollo y perfeccionamiento de la educación;\\n11º.- La libertad de enseñanza incluye el derecho de abrir, organizar y mantener establecimientos educacionales.\\nLa libertad de enseñanza no tiene otras limitaciones que las impuestas por la moral, las buenas costumbres, el orden público y la seguridad\\nSource 2:\\nacceso a las acciones de promoción, protección y recuperación de la salud y de rehabilitación del individuo.\\nLe corresponderá, asimismo, la coordinación y control de las acciones relacionadas con la salud.\\nEs deber preferente del Estado garantizar la ejecución de las acciones de salud, sea que se presten a través de instituciones públicas o privadas, en la forma y condiciones que determine la ley, la que podrá establecer cotizaciones obligatorias.\\nCada persona tendrá el derecho a elegir el sistema de salud al que desee acogerse, sea éste estatal o privado;\\n10º.- El derecho a la educación.\\nLa educación tiene por objeto el pleno desarrollo de la persona en las distintas etapas de su vida.\\nLos padres tienen el derecho preferente y el deber de educar a sus hijos. Corresponderá al Estado otorgar especial protección al ejercicio de este derecho.\\nPara el Estado es obligatorio promover la educación parvularia, para lo que financiará un sistema gratuito a partir del nivel medio menor, destinado a asegurar el acceso a\\nSource 3:\\nnacional.\\nLa enseñanza reconocida oficialmente no podrá orientarse a propagar tendencia político partidista alguna.\\nLos padres tienen el derecho de escoger el establecimiento de enseñanza para sus hijos.\\nUna ley orgánica constitucional establecerá los requisitos mínimos que deberán exigirse en cada uno de los niveles de la enseñanza básica y media y señalará las normas objetivas, de general aplicación, que permitan al Estado velar por su cumplimiento. Dicha ley, del mismo modo, establecerá los requisitos para el reconocimiento oficial de los establecimientos educacionales de todo nivel;\\n12º.- La libertad de emitir opinión y la de informar, sin censura previa, en cualquier forma y por cualquier medio, sin perjuicio de responder de los delitos y abusos que se cometan en el ejercicio de estas libertades, en conformidad a la ley, la que deberá ser de quórum calificado.\\nLa ley en ningún caso podrá establecer monopolio estatal sobre los medios de comunicación social.\\nToda persona natural o jurídica ofendida o\\n')"
      ]
     },
     "execution_count": 7,
     "metadata": {},
     "output_type": "execute_result"
    }
   ],
   "source": [
    "get_sources_and_context(query=\"Derecho a la educación\",\n",
    "                        embedding_model=embedder.embedding_model,\n",
    "                        num_chunks=3,\n",
    "                        id_constitucion=1)"
   ]
  },
  {
   "cell_type": "code",
   "execution_count": 8,
   "metadata": {},
   "outputs": [
    {
     "data": {
      "text/plain": [
       "([809, 807, 808],\n",
       " ['CAPÍTULO II: DERECHOS Y LIBERTADES FUNDAMENTALES, GARANTÍAS Y DEBERES CONSTITUCIONALES, Artículo 16.',\n",
       "  'CAPÍTULO II: DERECHOS Y LIBERTADES FUNDAMENTALES, GARANTÍAS Y DEBERES CONSTITUCIONALES, Artículo 16.',\n",
       "  'CAPÍTULO II: DERECHOS Y LIBERTADES FUNDAMENTALES, GARANTÍAS Y DEBERES CONSTITUCIONALES, Artículo 16.'],\n",
       " 'Source 1:\\nlibertad de enseñanza\\na)\\tLas personas tienen el derecho de abrir, organizar, mantener y desarrollar establecimientos educacionales, sin otra limitación que las impuestas por el orden público y la seguridad del país.\\nb)\\tLa enseñanza estatal y la reconocida oficialmente no podrán orientarse a propagar tendencia político partidista alguna.\\nc)\\tSe reconoce el derecho y el deber preferente de las familias de escoger la educación de sus hijos o pupilos, atendiendo a su interés superior.\\nd)\\tEl Estado respetará la autonomía de las instituciones de educación superior, de conformidad a la ley.\\n24.\\tEl derecho a la cultura.\\na)\\tEl Estado resguarda el derecho a participar en la vida cultural y científica. Protege la libertad creativa y su libre ejercicio, promueve el desarrollo y la divulgación del conocimiento, de las artes, las ciencias, la tecnología, el patrimonio cultural y asegura el acceso a los bienes y servicios culturales.\\nb)\\tEl Estado reconoce la función que este derecho cumple en la realización de la persona y\\nSource 2:\\neducación.\\na)\\tLa educación tiene por objeto el pleno desarrollo de la persona en las distintas etapas de su vida, en el contexto de una sociedad democrática.\\nb)\\tLa educación se rige por los principios de disponibilidad, accesibilidad, aceptabilidad, adaptabilidad, no discriminación y los demás que disponga la ley. El Estado tiene el deber ineludible de fortalecer la educación en todos sus niveles y fomentar su mejoramiento continuo, ejerciendo labores de promoción, regulación y supervigilancia. Los establecimientos educacionales creados o reconocidos por el Estado deberán cumplir estándares básicos y uniformes, de conformidad a la ley.\\nc)\\tEs deber del Estado promover la educación parvularia, para lo que financiará y coordinará un sistema gratuito a partir del nivel medio menor, destinado a asegurar el acceso a este y a sus niveles superiores. El segundo nivel de transición es obligatorio, siendo requisito para el ingreso a la educación básica.\\nd)\\tLa educación básica y la educación media son obligatorias,\\nSource 3:\\ndebiendo el Estado financiar y coordinar un sistema gratuito con tal objeto, destinado a asegurar el acceso a ellas de toda la población. En el caso de la educación media la obligatoriedad se extenderá hasta cumplir los veintiún años de edad.\\ne)\\tLa asignación de los recursos públicos deberá seguir criterios de razonabilidad.\\nf)\\tEl Estado deberá crear, sostener y coordinar una red nacional de establecimientos educacionales pluralista en todos los niveles de enseñanza.\\ng)\\tEs deber de la comunidad contribuir al desarrollo y perfeccionamiento de la educación. Asimismo, corresponderá al Estado asegurar la calidad de la educación en todos sus niveles y fomentar la formación cívica, estimular la investigación científica y tecnológica, la creación artística y la protección e incremento del patrimonio cultural de la Nación.\\nh)\\tLos profesores son parte esencial del esfuerzo educativo de la Nación. Es deber del Estado y de toda comunidad educativa promover el desarrollo profesional y respeto de los docentes.\\n23.\\tLa\\n')"
      ]
     },
     "execution_count": 8,
     "metadata": {},
     "output_type": "execute_result"
    }
   ],
   "source": [
    "get_sources_and_context(query=\"Derecho a la educación\",\n",
    "                        embedding_model=embedder.embedding_model,\n",
    "                        num_chunks=3,\n",
    "                        id_constitucion=3)"
   ]
  },
  {
   "cell_type": "code",
   "execution_count": 10,
   "metadata": {},
   "outputs": [
    {
     "data": {
      "text/plain": [
       "'El derecho a la salud está garantizado por el Estado, quien tiene la responsabilidad de promover, proteger y recuperar la salud de los individuos. Además, el Estado debe coordinar y controlar las acciones relacionadas con la salud [1]. Cada persona tiene el derecho de elegir el sistema de salud al que desea acogerse, ya sea público o privado [1].'"
      ]
     },
     "execution_count": 10,
     "metadata": {},
     "output_type": "execute_result"
    }
   ],
   "source": [
    "query = \"Derecho a la salud\"\n",
    "\n",
    "constitucion1_agent = QueryAgent(embedding_model_name=config[\"embedding_model\"],\n",
    "                                llm=config[\"chat_model\"],\n",
    "                                temperature=config[\"temperature\"],\n",
    "                                max_context_length=MAX_CONTEXT_LENGTHS[config[\"chat_model\"]],\n",
    "                                system_content=DOCUMENT_QA_SYSTEM_PROMPT.render(language='spanish'),\n",
    "                                assistant_content=\"\",\n",
    "                                constitucion_id=1)\n",
    "\n",
    "first_response = constitucion1_agent(query=query,\n",
    "                                    num_chunks=1,\n",
    "                                    stream=False)['answer']\n",
    "\n",
    "first_response"
   ]
  },
  {
   "cell_type": "code",
   "execution_count": 75,
   "metadata": {},
   "outputs": [
    {
     "data": {
      "text/plain": [
       "'El derecho a la salud está protegido por el Estado, que garantiza el acceso libre, universal, igualitario y oportuno a acciones de promoción, prevención, protección y recuperación de la salud [1]. El Estado tiene el deber preferente de garantizar la ejecución de estas acciones a través de instituciones estatales o privadas [1]. Además, el Estado debe crear, preservar y coordinar una red de establecimientos de salud de acuerdo con estándares básicos y uniformes de calidad [1].'"
      ]
     },
     "execution_count": 75,
     "metadata": {},
     "output_type": "execute_result"
    }
   ],
   "source": [
    "\n",
    "constitucion2_agent = QueryAgent(embedding_model_name=config[\"embedding_model\"],\n",
    "                                llm=config[\"chat_model\"],\n",
    "                                temperature=config[\"temperature\"],\n",
    "                                max_context_length=MAX_CONTEXT_LENGTHS[config[\"chat_model\"]],\n",
    "                                system_content=DOCUMENT_QA_SYSTEM_PROMPT,\n",
    "                                assistant_content=\"\",\n",
    "                                constitucion_id=3)\n",
    "\n",
    "second_response = constitucion2_agent(query=query,\n",
    "                                    num_chunks=3,\n",
    "                                    stream=False)\n",
    "\n",
    "second_response['answer']"
   ]
  },
  {
   "cell_type": "code",
   "execution_count": 72,
   "metadata": {},
   "outputs": [
    {
     "data": {
      "text/plain": [
       "\"\\nNow it's your turn. Below are several numbered sources of information:\\n------\\nSource 1:\\nlibertad de enseñanza\\na)\\tLas personas tienen el derecho de abrir, organizar, mantener y desarrollar establecimientos educacionales, sin otra limitación que las impuestas por el orden público y la seguridad del país.\\nb)\\tLa enseñanza estatal y la reconocida oficialmente no podrán orientarse a propagar tendencia político partidista alguna.\\nc)\\tSe reconoce el derecho y el deber preferente de las familias de escoger la educación de sus hijos o pupilos, atendiendo a su interés superior.\\nd)\\tEl Estado respetará la autonomía de las instituciones de educación superior, de conformidad a la ley.\\n24.\\tEl derecho a la cultura.\\na)\\tEl Estado resguarda el derecho a participar en la vida cultural y científica. Protege la libertad creativa y su libre ejercicio, promueve el desarrollo y la divulgación del conocimiento, de las artes, las ciencias, la tecnología, el patrimonio cultural y asegura el acceso a los bienes y servicios culturales.\\nb)\\tEl Estado reconoce la función que este derecho cumple en la realización de la persona y\\nSource 2:\\neducación.\\na)\\tLa educación tiene por objeto el pleno desarrollo de la persona en las distintas etapas de su vida, en el contexto de una sociedad democrática.\\nb)\\tLa educación se rige por los principios de disponibilidad, accesibilidad, aceptabilidad, adaptabilidad, no discriminación y los demás que disponga la ley. El Estado tiene el deber ineludible de fortalecer la educación en todos sus niveles y fomentar su mejoramiento continuo, ejerciendo labores de promoción, regulación y supervigilancia. Los establecimientos educacionales creados o reconocidos por el Estado deberán cumplir estándares básicos y uniformes, de conformidad a la ley.\\nc)\\tEs deber del Estado promover la educación parvularia, para lo que financiará y coordinará un sistema gratuito a partir del nivel medio menor, destinado a asegurar el acceso a este y a sus niveles superiores. El segundo nivel de transición es obligatorio, siendo requisito para el ingreso a la educación básica.\\nd)\\tLa educación básica y la educación media son obligatorias,\\nSource 3:\\ndebiendo el Estado financiar y coordinar un sistema gratuito con tal objeto, destinado a asegurar el acceso a ellas de toda la población. En el caso de la educación media la obligatoriedad se extenderá hasta cumplir los veintiún años de edad.\\ne)\\tLa asignación de los recursos públicos deberá seguir criterios de razonabilidad.\\nf)\\tEl Estado deberá crear, sostener y coordinar una red nacional de establecimientos educacionales pluralista en todos los niveles de enseñanza.\\ng)\\tEs deber de la comunidad contribuir al desarrollo y perfeccionamiento de la educación. Asimismo, corresponderá al Estado asegurar la calidad de la educación en todos sus niveles y fomentar la formación cívica, estimular la investigación científica y tecnológica, la creación artística y la protección e incremento del patrimonio cultural de la Nación.\\nh)\\tLos profesores son parte esencial del esfuerzo educativo de la Nación. Es deber del Estado y de toda comunidad educativa promover el desarrollo profesional y respeto de los docentes.\\n23.\\tLa\\n\\n------\\nQuery: Derecho a la educación\\nAnswer: \""
      ]
     },
     "execution_count": 72,
     "metadata": {},
     "output_type": "execute_result"
    }
   ],
   "source": [
    "second_response['user_content']"
   ]
  },
  {
   "cell_type": "code",
   "execution_count": 52,
   "metadata": {},
   "outputs": [
    {
     "data": {
      "text/plain": [
       "'El derecho a la educación está garantizado en la Constitución. Según el artículo 10º de la Constitución (Source 2), la educación tiene como objetivo el pleno desarrollo de la persona en todas las etapas de su vida. Los padres tienen el derecho preferente y el deber de educar a sus hijos, y el Estado debe otorgar especial protección a este derecho. Además, el Estado tiene la obligación de promover la educación parvularia y financiar un sistema gratuito a partir del nivel medio menor para asegurar el acceso a la educación. La libertad de enseñanza también está protegida, permitiendo a las personas abrir, organizar y mantener establecimientos educacionales (Source 1).\\n\\nSource 1 también menciona que la educación básica y la educación media son obligatorias, y el Estado debe financiar un sistema gratuito para asegurar el acceso a ellas de toda la población. En el caso de la educación media, este sistema se extenderá hasta los 21 años de edad. Además, corresponde al Estado fomentar el desarrollo de la educación en todos sus niveles, estimular la investigación científica y tecnológica, la creación artística y la protección e incremento del patrimonio cultural de la Nación.\\n\\nEn resumen, el derecho a la educación está garantizado en la Constitución, y el Estado tiene la responsabilidad de promover y financiar un sistema gratuito de educación para asegurar el acceso a todas las etapas de la educación, desde la educación parvularia hasta la educación media. Los padres tienen el derecho preferente y el deber de educar a sus hijos, y la libertad de enseñanza permite a las personas abrir, organizar y mantener establecimientos educacionales.'"
      ]
     },
     "execution_count": 52,
     "metadata": {},
     "output_type": "execute_result"
    }
   ],
   "source": [
    "first_response"
   ]
  },
  {
   "cell_type": "code",
   "execution_count": 82,
   "metadata": {},
   "outputs": [
    {
     "data": {
      "text/plain": [
       "'\\nYou are a Constitutional Lawyer. You are asked to give a brief response about \\nthe differences of two constitutions.\\n\\nThe first constitution is the current one, and the second one is a proposed one.\\nAlways refer to the first constitution as \"\" and the second one as \"\".\\n\\nPlease respond in .'"
      ]
     },
     "execution_count": 82,
     "metadata": {},
     "output_type": "execute_result"
    }
   ],
   "source": [
    "FINAL_RESPONSE_SYSTEM_PROMPT_TEMPLATE.render()"
   ]
  },
  {
   "cell_type": "code",
   "execution_count": 84,
   "metadata": {},
   "outputs": [],
   "source": [
    "final_agent = ComparisonAgent(embedding_model_name=config[\"embedding_model\"],\n",
    "                        llm=config[\"chat_model\"],\n",
    "                        temperature=config[\"temperature\"],\n",
    "                        max_context_length=MAX_CONTEXT_LENGTHS[config[\"chat_model\"]],\n",
    "                        system_content=FINAL_RESPONSE_SYSTEM_PROMPT_TEMPLATE.render(document1_title=constituciones[str(1)],\n",
    "                                                                                    document2_title=constituciones[str(3)],\n",
    "                                                                                    language='spanish'),                                      \n",
    "                        assistant_content=\"\")"
   ]
  },
  {
   "cell_type": "code",
   "execution_count": 89,
   "metadata": {},
   "outputs": [
    {
     "data": {
      "text/plain": [
       "'La principal diferencia entre la Constitución Actual 1980 y la Propuesta Convención 2022 en relación al derecho a la salud radica en la forma en que se garantiza y se accede a este derecho.\\n\\nLa Constitución Actual 1980 establece que el derecho a la salud está garantizado por el Estado, quien tiene la responsabilidad de promover, proteger y recuperar la salud de los individuos. Además, se reconoce el derecho de cada persona a elegir el sistema de salud al que desea acogerse, ya sea estatal o privado.\\n\\nPor otro lado, la Propuesta Convención 2022 establece que el derecho a la salud está protegido por el Estado, el cual garantiza el acceso libre, universal, igualitario y oportuno a acciones de promoción, prevención, protección y recuperación de la salud. El Estado tiene el deber preferente de garantizar la ejecución de estas acciones a través de instituciones estatales o privadas. Además, se establece la obligación del Estado de crear, preservar y coordinar una red de establecimientos de salud de acuerdo con estándares básicos y uniformes de calidad.\\n\\nEn resumen, la Propuesta Convención 2022 amplía el alcance y la responsabilidad del Estado en la garantía del derecho a la salud, estableciendo un acceso libre, universal, igualitario y oportuno a las acciones de salud. Además, se enfatiza la creación y coordinación de una red de establecimientos de salud de calidad.'"
      ]
     },
     "execution_count": 89,
     "metadata": {},
     "output_type": "execute_result"
    }
   ],
   "source": [
    "final_agent(query=query,\n",
    "            first_response=re.sub(r'\\[\\d+\\]', '', first_response),\n",
    "            second_response=re.sub(r'\\[\\d+\\]', '', second_response['answer']),\n",
    "            stream=False)['answer']"
   ]
  },
  {
   "cell_type": "code",
   "execution_count": 40,
   "metadata": {},
   "outputs": [
    {
     "data": {
      "text/plain": [
       "'\\nPlease explain the differences of two constitutions about this topic: ¿Qué derechos me otorga la Constitución?.\\n\\nThe first constitution says the following about the topic: La Constitución asegura a todas las personas el derecho a la vida y a la integridad física y psíquica [1]. También garantiza la igualdad ante la ley, sin establecer diferencias arbitrarias [1]. Además, establece el deber de respeto a Chile y a sus emblemas nacionales [3]..\\nThe second constitution says the following about the topic: La Constitución otorga una serie de derechos fundamentales, garantías y deberes constitucionales [1]. Estos derechos incluyen el derecho a la salud, a la vivienda, al agua y al saneamiento, a la seguridad social y a la educación [1]. Estos derechos deben ser protegidos y su ejercicio solo puede ser limitado en situaciones de excepción, como guerra externa o interna, grave conmoción interior, emergencia y calamidad pública, cuando afecten gravemente el normal desenvolvimiento de las instituciones del Estado [2]. Las medidas adecuadas para la realización de estos derechos serán determinadas por la ley y las normas fundadas en ella [3]..\\n\\nPlease detail the differences between the two constitutions about this topic.\\nPlease be concise.'"
      ]
     },
     "execution_count": 40,
     "metadata": {},
     "output_type": "execute_result"
    }
   ],
   "source": [
    "final_agent(query=query,\n",
    "            first_response=first_response,\n",
    "            second_response=second_response,\n",
    "            stream=False)['user_content']"
   ]
  },
  {
   "cell_type": "code",
   "execution_count": 41,
   "metadata": {},
   "outputs": [
    {
     "data": {
      "text/plain": [
       "'\\nYou are a Constitutional Lawyer. You are asked to give a brief response about \\nthe differences of two constitutions.\\n\\nThe first constitution is the current one, and the second one is a proposed one.\\nAlways refer to the first constitution as \"Constitución Actual 1980\" and the second one as \"Anteproyecto Expertos 2023\".\\n\\nPlease respond in the same language as the topic is written.'"
      ]
     },
     "execution_count": 41,
     "metadata": {},
     "output_type": "execute_result"
    }
   ],
   "source": [
    "final_agent(query=query,\n",
    "            first_response=first_response,\n",
    "            second_response=second_response,\n",
    "            stream=False)['system_content']"
   ]
  },
  {
   "cell_type": "code",
   "execution_count": 18,
   "metadata": {},
   "outputs": [
    {
     "data": {
      "text/plain": [
       "'\\nPlease provide an answer based solely on the provided sources. When referencing information from a source, cite the appropriate source(s) using their corresponding numbers. Every answer should include at least one source citation. Only cite a source when you are explicitly referencing it. If none of the sources are helpful, you should indicate that. For example:\\nSource 1:\\nThe sky is red in the evening and blue in the morning.\\nSource 2:\\nWater is wet when the sky is red.\\nQuery: When is water wet?\\nAnswer: Water will be wet when the sky is red [2], which occurs in the evening [1].\\n'"
      ]
     },
     "execution_count": 18,
     "metadata": {},
     "output_type": "execute_result"
    }
   ],
   "source": [
    "DOCUMENT_QA_SYSTEM_PROMPT"
   ]
  },
  {
   "cell_type": "code",
   "execution_count": 23,
   "metadata": {},
   "outputs": [
    {
     "data": {
      "text/plain": [
       "\"\\nNow it's your turn. Below are several numbered sources of information:\\n------\\nSource 1:\\nCapítulo III: DE LOS DERECHOS Y DEBERES CONSTITUCIONALES\\nArtículo 19\\n\\nLa Constitución asegura a todas las personas:\\n1º.- El derecho a la vida y a la integridad física y psíquica de la persona.\\nLa ley protege la vida del que está por nacer.\\nLa pena de muerte sólo podrá establecerse por delito contemplado en ley aprobada con quórum calificado.\\nSe prohíbe la aplicación de todo apremio ilegítimo.\\nEl desarrollo científico y tecnológico estará al servicio de las personas y se llevará a cabo con respeto a la vida y a la integridad física y psíquica. La ley regulará los requisitos, condiciones y restricciones para su utilización en las personas, debiendo resguardar especialmente la actividad cerebral, así como la información proveniente de ella;\\n2º.- La igualdad ante la ley. En Chile no hay persona ni grupo privilegiados. En Chile no hay esclavos y el que pise su territorio queda libre. Hombres y mujeres son iguales ante la ley.\\nNi la ley ni autoridad alguna podrán establecer diferencias arbitrarias;\\n3º.- La igual\\nSource 2:\\nCapítulo VIII: TRIBUNAL CONSTITUCIONAL\\nArtículo 93\\n\\nSon atribuciones del Tribunal Constitucional:\\n1º.- Ejercer el control de constitucionalidad de las leyes que interpreten algún precepto de la Constitución, de las leyes orgánicas constitucionales y de las normas de un tratado que versen sobre materias propias de estas últimas, antes de su promulgación;\\n2º.- Resolver sobre las cuestiones de constitucionalidad de los autos acordados dictados por la Corte Suprema, las Cortes de Apelaciones y el Tribunal Calificador de Elecciones;\\n3º.- Resolver las cuestiones sobre constitucionalidad que se susciten durante la tramitación de los proyectos de ley o de reforma constitucional y de los tratados sometidos a la aprobación del Congreso;\\n4º.- Resolver las cuestiones que se susciten sobre la constitucionalidad de un decreto con fuerza de ley;\\n5º.- Resolver las cuestiones que se susciten sobre constitucionalidad con relación a la convocatoria a un plebiscito, sin perjuicio de las atribuciones que correspondan al Tribunal\\nSource 3:\\nCapítulo III: DE LOS DERECHOS Y DEBERES CONSTITUCIONALES\\nArtículo 22\\n\\nTodo habitante de la República debe respeto a Chile y a sus emblemas nacionales.\\nLos chilenos tienen el deber fundamental de honrar a la patria, de defender su soberanía y de contribuir a preservar la seguridad nacional y los valores esenciales de la tradición chilena.\\nEl servicio militar y demás cargas personales que imponga la ley son obligatorios en los términos y formas que ésta determine.\\nLos chilenos en estado de cargar armas deberán hallarse inscritos en los Registros Militares, si no están legalmente exceptuados.\\n\\n------\\nQuery: ¿Qué derechos me otorga la Constitución?\\nAnswer: \""
      ]
     },
     "execution_count": 23,
     "metadata": {},
     "output_type": "execute_result"
    }
   ],
   "source": [
    "constitucion1_agent(query=query,\n",
    "                    num_chunks=3,\n",
    "                    stream=False)['user_content']"
   ]
  },
  {
   "cell_type": "code",
   "execution_count": 22,
   "metadata": {},
   "outputs": [
    {
     "data": {
      "text/plain": [
       "\"\\nNow it's your turn. We have provided an existing answer: La Constitución asegura a todas las personas el derecho a la vida y a la integridad física y psíquica [1]. También garantiza la igualdad ante la ley, sin establecer diferencias arbitrarias [1]. Además, establece el deber de respeto a Chile y a sus emblemas nacionales [3].. Below are several numbered sources of information. Use them to refine the existing answer. If the provided sources are not helpful, you will repeat the existing answer.\\nBegin refining!\\n------\\nSource 1:\\nCapítulo III: DE LOS DERECHOS Y DEBERES CONSTITUCIONALES\\nArtículo 19\\n\\nLa Constitución asegura a todas las personas:\\n1º.- El derecho a la vida y a la integridad física y psíquica de la persona.\\nLa ley protege la vida del que está por nacer.\\nLa pena de muerte sólo podrá establecerse por delito contemplado en ley aprobada con quórum calificado.\\nSe prohíbe la aplicación de todo apremio ilegítimo.\\nEl desarrollo científico y tecnológico estará al servicio de las personas y se llevará a cabo con respeto a la vida y a la integridad física y psíquica. La ley regulará los requisitos, condiciones y restricciones para su utilización en las personas, debiendo resguardar especialmente la actividad cerebral, así como la información proveniente de ella;\\n2º.- La igualdad ante la ley. En Chile no hay persona ni grupo privilegiados. En Chile no hay esclavos y el que pise su territorio queda libre. Hombres y mujeres son iguales ante la ley.\\nNi la ley ni autoridad alguna podrán establecer diferencias arbitrarias;\\n3º.- La igual\\nSource 2:\\nCapítulo VIII: TRIBUNAL CONSTITUCIONAL\\nArtículo 93\\n\\nSon atribuciones del Tribunal Constitucional:\\n1º.- Ejercer el control de constitucionalidad de las leyes que interpreten algún precepto de la Constitución, de las leyes orgánicas constitucionales y de las normas de un tratado que versen sobre materias propias de estas últimas, antes de su promulgación;\\n2º.- Resolver sobre las cuestiones de constitucionalidad de los autos acordados dictados por la Corte Suprema, las Cortes de Apelaciones y el Tribunal Calificador de Elecciones;\\n3º.- Resolver las cuestiones sobre constitucionalidad que se susciten durante la tramitación de los proyectos de ley o de reforma constitucional y de los tratados sometidos a la aprobación del Congreso;\\n4º.- Resolver las cuestiones que se susciten sobre la constitucionalidad de un decreto con fuerza de ley;\\n5º.- Resolver las cuestiones que se susciten sobre constitucionalidad con relación a la convocatoria a un plebiscito, sin perjuicio de las atribuciones que correspondan al Tribunal\\nSource 3:\\nCapítulo III: DE LOS DERECHOS Y DEBERES CONSTITUCIONALES\\nArtículo 22\\n\\nTodo habitante de la República debe respeto a Chile y a sus emblemas nacionales.\\nLos chilenos tienen el deber fundamental de honrar a la patria, de defender su soberanía y de contribuir a preservar la seguridad nacional y los valores esenciales de la tradición chilena.\\nEl servicio militar y demás cargas personales que imponga la ley son obligatorios en los términos y formas que ésta determine.\\nLos chilenos en estado de cargar armas deberán hallarse inscritos en los Registros Militares, si no están legalmente exceptuados.\\n\\n------\\nQuery: ¿Qué derechos me otorga la Constitución?\\nAnswer: \""
      ]
     },
     "execution_count": 22,
     "metadata": {},
     "output_type": "execute_result"
    }
   ],
   "source": [
    "constitucion1_agent(query=query,\n",
    "                    num_chunks=3,\n",
    "                    stream=False)['user_refine_content']"
   ]
  },
  {
   "cell_type": "code",
   "execution_count": null,
   "metadata": {},
   "outputs": [],
   "source": []
  }
 ],
 "metadata": {
  "kernelspec": {
   "display_name": "llm-search-discolab",
   "language": "python",
   "name": "python3"
  },
  "language_info": {
   "codemirror_mode": {
    "name": "ipython",
    "version": 3
   },
   "file_extension": ".py",
   "mimetype": "text/x-python",
   "name": "python",
   "nbconvert_exporter": "python",
   "pygments_lexer": "ipython3",
   "version": "3.10.13"
  }
 },
 "nbformat": 4,
 "nbformat_minor": 2
}

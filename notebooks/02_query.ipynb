{
 "cells": [
  {
   "cell_type": "code",
   "execution_count": 12,
   "metadata": {},
   "outputs": [
    {
     "name": "stdout",
     "output_type": "stream",
     "text": [
      "The autoreload extension is already loaded. To reload it, use:\n",
      "  %reload_ext autoreload\n"
     ]
    }
   ],
   "source": [
    "import sys; sys.path.append(\"..\")\n",
    "import warnings; warnings.filterwarnings(\"ignore\")\n",
    "from dotenv import load_dotenv; load_dotenv()\n",
    "%load_ext autoreload\n",
    "%autoreload 2"
   ]
  },
  {
   "cell_type": "code",
   "execution_count": 13,
   "metadata": {},
   "outputs": [],
   "source": [
    "import json\n",
    "import yaml"
   ]
  },
  {
   "cell_type": "code",
   "execution_count": 55,
   "metadata": {},
   "outputs": [],
   "source": [
    "from rag.embed import EmbedChunks\n",
    "from rag.generate import get_sources_and_context, QueryAgent, ComparisonAgent\n",
    "from rag.prompts import DOCUMENT_QA_SYSTEM_PROMPT, DOCUMENT_QA_USER_PROMPT_TEMPLATE, FINAL_RESPONSE_SYSTEM_PROMPT_TEMPLATE\n",
    "from rag.config import MAX_CONTEXT_LENGTHS"
   ]
  },
  {
   "cell_type": "code",
   "execution_count": 16,
   "metadata": {},
   "outputs": [],
   "source": [
    "with open('../config.YAML') as f:\n",
    "    config = yaml.load(f, Loader=yaml.FullLoader)"
   ]
  },
  {
   "cell_type": "code",
   "execution_count": 36,
   "metadata": {},
   "outputs": [],
   "source": [
    "with open('../data/Constituciones.json') as f:\n",
    "    constituciones = json.load(f)"
   ]
  },
  {
   "cell_type": "code",
   "execution_count": 17,
   "metadata": {},
   "outputs": [],
   "source": [
    "embedder = EmbedChunks(config[\"embedding_model\"])"
   ]
  },
  {
   "cell_type": "code",
   "execution_count": 7,
   "metadata": {},
   "outputs": [
    {
     "data": {
      "text/plain": [
       "([201, 202, 125],\n",
       " ['Capítulo XIII: BANCO CENTRAL, Artículo 108',\n",
       "  'Capítulo XIII: BANCO CENTRAL, Artículo 109',\n",
       "  'Capítulo V: CONGRESO NACIONAL, Artículo 63'],\n",
       " [{'Source 1:\\nCapítulo XIII: BANCO CENTRAL\\nArtículo 108\\n\\nExistirá un organismo autónomo, con patrimonio propio, de carácter técnico, denominado Banco Central, cuya composición, organización, funciones y atribuciones determinará una ley orgánica constitucional.\\n'},\n",
       "  {'Source 2:\\nCapítulo XIII: BANCO CENTRAL\\nArtículo 109\\n\\nEl Banco Central sólo podrá efectuar operaciones con instituciones financieras, sean públicas o privadas. De manera alguna podrá otorgar a ellas su garantía, ni adquirir documentos emitidos por el Estado, sus organismos o empresas.\\nSin perjuicio de lo anterior, en situaciones excepcionales y transitorias, en las que así lo requiera la preservación del normal funcionamiento de los pagos internos y externos, el Banco Central podrá comprar durante un período determinado y vender, en el mercado secundario abierto, instrumentos de deuda emitidos por el Fisco, de conformidad a lo establecido en su ley orgánica constitucional.\\nNingún gasto público o préstamo podrá financiarse con créditos directos o indirectos del Banco Central.\\nCon todo, en caso de guerra exterior o de peligro de ella, que calificará el Consejo de Seguridad Nacional, el Banco Central podrá obtener, otorgar o financiar créditos al Estado y entidades públicas o privadas.\\nEl Banco Central no podrá adoptar\\n'},\n",
       "  {'Source 3:\\npresidencial.\\nLo dispuesto en este número no se aplicará al Banco Central;\\n8) Las que autoricen la celebración de cualquier clase de operaciones que puedan comprometer en forma directa o indirecta el crédito o la responsabilidad financiera del Estado, sus organismos y de las municipalidades.\\nEsta disposición no se aplicará al Banco Central;\\n9) Las que fijen las normas con arreglo a las cuales las empresas del Estado y aquellas en que éste tenga participación puedan contratar empréstitos, los que en ningún caso, podrán efectuarse con el Estado, sus organismos o empresas;\\n10) Las que fijen las normas sobre enajenación de bienes del Estado o de las municipalidades y sobre su arrendamiento o concesión;\\n11) Las que establezcan o modifiquen la división política y administrativa del país;\\n12) Las que señalen el valor, tipo y denominación de las monedas y el sistema de pesos y medidas;\\n13) Las que fijen las fuerzas de aire, mar y tierra que han de mantenerse en pie en tiempo de paz o de guerra, y las normas para\\n'}])"
      ]
     },
     "execution_count": 7,
     "metadata": {},
     "output_type": "execute_result"
    }
   ],
   "source": [
    "get_sources_and_context(query=\"El Banco Central\", embedding_model=embedder.embedding_model, num_chunks=3, id_constitucion=1)"
   ]
  },
  {
   "cell_type": "code",
   "execution_count": 8,
   "metadata": {},
   "outputs": [
    {
     "data": {
      "text/plain": [
       "([731, 733, 732],\n",
       " ['Capítulo X: Órganos Autónomos Constitucionales, Artículo 357',\n",
       "  'Capítulo X: Órganos Autónomos Constitucionales, Artículo 359',\n",
       "  'Capítulo X: Órganos Autónomos Constitucionales, Artículo 358'],\n",
       " [{'Source 1:\\nCapítulo X: Órganos Autónomos Constitucionales\\nArtículo 357\\n\\n1. El Banco Central es un órgano autónomo con personalidad jurídica y patrimonio propio, de carácter técnico, encargado de formular y conducir la política monetaria.\\n2. La ley regulará su organización, atribuciones y sistemas de control, así como la determinación de instancias de coordinación entre el Banco y el Gobierno.\\n'},\n",
       "  {'Source 2:\\nCapítulo X: Órganos Autónomos Constitucionales\\nArtículo 359\\n\\nSon atribuciones del Banco Central la regulación de la cantidad de dinero y de crédito en circulación, la ejecución de operaciones de crédito y cambios internacionales, y la potestad para dictar normas en materia monetaria, crediticia, financiera y de cambios internacionales, y las demás que establezca la ley.\\n'},\n",
       "  {'Source 3:\\nCapítulo X: Órganos Autónomos Constitucionales\\nArtículo 358\\n\\n1. Le corresponde en especial al Banco Central, para contribuir al bienestar de la población, velar por la estabilidad de los precios y el normal funcionamiento de los pagos internos y externos.\\n2. Para el cumplimiento de su objeto, el Banco Central deberá considerar la estabilidad financiera, la volatilidad cambiaria, la protección del empleo, el cuidado del medioambiente y del patrimonio natural y los principios que señalen la Constitución y la ley.\\n3. El Banco, al adoptar sus decisiones, deberá tener presente la orientación general de la política económica del Gobierno.\\n'}])"
      ]
     },
     "execution_count": 8,
     "metadata": {},
     "output_type": "execute_result"
    }
   ],
   "source": [
    "get_sources_and_context(query=\"El Banco Central\", embedding_model=embedder.embedding_model, num_chunks=3, id_constitucion=2)"
   ]
  },
  {
   "cell_type": "code",
   "execution_count": 58,
   "metadata": {},
   "outputs": [],
   "source": [
    "constitucion1_agent = QueryAgent(embedding_model_name=config[\"embedding_model\"],\n",
    "                                llm=config[\"chat_model\"],\n",
    "                                temperature=config[\"temperature\"],\n",
    "                                max_context_length=MAX_CONTEXT_LENGTHS[config[\"chat_model\"]],\n",
    "                                system_content=DOCUMENT_QA_SYSTEM_PROMPT,\n",
    "                                assistant_content=\"\",\n",
    "                                constitucion_id=1)\n",
    "\n",
    "first_response = constitucion1_agent(query='El Banco Central',\n",
    "                                    num_chunks=3,\n",
    "                                    stream=False)['answer']\n",
    "\n",
    "constitucion2_agent = QueryAgent(embedding_model_name=config[\"embedding_model\"],\n",
    "                                llm=config[\"chat_model\"],\n",
    "                                temperature=config[\"temperature\"],\n",
    "                                max_context_length=MAX_CONTEXT_LENGTHS[config[\"chat_model\"]],\n",
    "                                system_content=DOCUMENT_QA_SYSTEM_PROMPT,\n",
    "                                assistant_content=\"\",\n",
    "                                constitucion_id=2)\n",
    "\n",
    "second_response = constitucion2_agent(query='El Banco Central',\n",
    "                                    num_chunks=3,\n",
    "                                    stream=False)['answer']"
   ]
  },
  {
   "cell_type": "code",
   "execution_count": 59,
   "metadata": {},
   "outputs": [],
   "source": [
    "final_agent = ComparisonAgent(embedding_model_name=config[\"embedding_model\"],\n",
    "                        llm=config[\"chat_model\"],\n",
    "                        temperature=config[\"temperature\"],\n",
    "                        max_context_length=MAX_CONTEXT_LENGTHS[config[\"chat_model\"]],\n",
    "                        system_content=FINAL_RESPONSE_SYSTEM_PROMPT_TEMPLATE.render(document1_title=constituciones[str(1)],\n",
    "                                                                                    document2_title=constituciones[str(2)]),\n",
    "                        assistant_content=\"\")"
   ]
  },
  {
   "cell_type": "code",
   "execution_count": 60,
   "metadata": {},
   "outputs": [
    {
     "data": {
      "text/plain": [
       "'El Banco Central de Chile es el organismo encargado de velar por la estabilidad y el correcto funcionamiento del sistema financiero del país. Su principal objetivo es mantener la estabilidad de precios y promover el desarrollo económico sostenible. Fue creado en 1925 y su autonomía está consagrada en la Constitución Actual 1980, en el artículo 97.\\n\\nEl Anteproyecto Expertos 2023 propone mantener la existencia del Banco Central como institución autónoma, pero establece algunas modificaciones en su estructura y funciones. Por ejemplo, se propone fortalecer su independencia política y económica, así como su capacidad para regular y supervisar el sistema financiero. Además, se plantea la posibilidad de ampliar su mandato para incluir objetivos relacionados con el desarrollo social y la protección del medio ambiente.\\n\\nEn resumen, tanto la Constitución Actual 1980 como el Anteproyecto Expertos 2023 reconocen la importancia del Banco Central como institución autónoma encargada de velar por la estabilidad y el correcto funcionamiento del sistema financiero. Sin embargo, el Anteproyecto Expertos 2023 propone algunas modificaciones para fortalecer su independencia y ampliar su mandato en relación con objetivos sociales y medioambientales.'"
      ]
     },
     "execution_count": 60,
     "metadata": {},
     "output_type": "execute_result"
    }
   ],
   "source": [
    "final_agent(query='El Banco Central',\n",
    "            first_response=first_response,\n",
    "            second_response=second_response,\n",
    "            stream=False)['answer']"
   ]
  }
 ],
 "metadata": {
  "kernelspec": {
   "display_name": "llm-search-discolab",
   "language": "python",
   "name": "python3"
  },
  "language_info": {
   "codemirror_mode": {
    "name": "ipython",
    "version": 3
   },
   "file_extension": ".py",
   "mimetype": "text/x-python",
   "name": "python",
   "nbconvert_exporter": "python",
   "pygments_lexer": "ipython3",
   "version": "3.10.13"
  }
 },
 "nbformat": 4,
 "nbformat_minor": 2
}
